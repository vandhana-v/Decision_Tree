{
 "cells": [
  {
   "cell_type": "markdown",
   "metadata": {},
   "source": [
    "## Problem Statement\n",
    "Predicting Survival in the Titanic Data Set\n",
    "We will be using a decision tree to make predictions about the Titanic data set from\n",
    "Kaggle. This data set provides information on the Titanic passengers and can be used to\n",
    "predict whether a passenger survived or not."
   ]
  },
  {
   "cell_type": "markdown",
   "metadata": {},
   "source": [
    "###  Loading Data and modules"
   ]
  },
  {
   "cell_type": "code",
   "execution_count": 291,
   "metadata": {},
   "outputs": [],
   "source": [
    "import numpy as np\n",
    "import pandas as pd\n",
    "import seaborn as sb\n",
    "import matplotlib.pyplot as plt\n",
    "import sklearn\n",
    "from pandas import Series, DataFrame\n",
    "from pylab import rcParams\n",
    "from sklearn import preprocessing\n",
    "from sklearn.linear_model import LogisticRegression\n",
    "from sklearn.cross_validation import train_test_split\n",
    "from sklearn import metrics\n",
    "from sklearn.metrics import classification_report\n",
    "import seaborn as sns\n",
    "from scipy import stats\n",
    "from sklearn.preprocessing import StandardScaler, LabelEncoder\n",
    "from sklearn import tree, metrics, model_selection, preprocessing\n",
    "from sklearn.cross_validation import KFold\n",
    "from sklearn.cross_validation import cross_val_score\n",
    "from sklearn.metrics import precision_score,f1_score, recall_score,accuracy_score, confusion_matrix, classification_report\n"
   ]
  },
  {
   "cell_type": "markdown",
   "metadata": {},
   "source": [
    "### Reading titanic dataset"
   ]
  },
  {
   "cell_type": "code",
   "execution_count": 292,
   "metadata": {},
   "outputs": [],
   "source": [
    "url='https://raw.githubusercontent.com/BigDataGal/Python-for-Data-Science/master/titanic-train.csv'\n",
    "titanic = pd.read_csv(url)\n",
    "titanic.columns =['PassengerId','Survived','Pclass','Name','Sex','Age','SibSp','Parch','Ticket','Fare','Cabin','Embarked']"
   ]
  },
  {
   "cell_type": "code",
   "execution_count": 250,
   "metadata": {},
   "outputs": [
    {
     "data": {
      "text/html": [
       "<div>\n",
       "<style scoped>\n",
       "    .dataframe tbody tr th:only-of-type {\n",
       "        vertical-align: middle;\n",
       "    }\n",
       "\n",
       "    .dataframe tbody tr th {\n",
       "        vertical-align: top;\n",
       "    }\n",
       "\n",
       "    .dataframe thead th {\n",
       "        text-align: right;\n",
       "    }\n",
       "</style>\n",
       "<table border=\"1\" class=\"dataframe\">\n",
       "  <thead>\n",
       "    <tr style=\"text-align: right;\">\n",
       "      <th></th>\n",
       "      <th>PassengerId</th>\n",
       "      <th>Survived</th>\n",
       "      <th>Pclass</th>\n",
       "      <th>Name</th>\n",
       "      <th>Sex</th>\n",
       "      <th>Age</th>\n",
       "      <th>SibSp</th>\n",
       "      <th>Parch</th>\n",
       "      <th>Ticket</th>\n",
       "      <th>Fare</th>\n",
       "      <th>Cabin</th>\n",
       "      <th>Embarked</th>\n",
       "    </tr>\n",
       "  </thead>\n",
       "  <tbody>\n",
       "    <tr>\n",
       "      <th>0</th>\n",
       "      <td>1</td>\n",
       "      <td>0</td>\n",
       "      <td>3</td>\n",
       "      <td>Braund, Mr. Owen Harris</td>\n",
       "      <td>male</td>\n",
       "      <td>22.0</td>\n",
       "      <td>1</td>\n",
       "      <td>0</td>\n",
       "      <td>A/5 21171</td>\n",
       "      <td>7.2500</td>\n",
       "      <td>NaN</td>\n",
       "      <td>S</td>\n",
       "    </tr>\n",
       "    <tr>\n",
       "      <th>1</th>\n",
       "      <td>2</td>\n",
       "      <td>1</td>\n",
       "      <td>1</td>\n",
       "      <td>Cumings, Mrs. John Bradley (Florence Briggs Th...</td>\n",
       "      <td>female</td>\n",
       "      <td>38.0</td>\n",
       "      <td>1</td>\n",
       "      <td>0</td>\n",
       "      <td>PC 17599</td>\n",
       "      <td>71.2833</td>\n",
       "      <td>C85</td>\n",
       "      <td>C</td>\n",
       "    </tr>\n",
       "    <tr>\n",
       "      <th>2</th>\n",
       "      <td>3</td>\n",
       "      <td>1</td>\n",
       "      <td>3</td>\n",
       "      <td>Heikkinen, Miss. Laina</td>\n",
       "      <td>female</td>\n",
       "      <td>26.0</td>\n",
       "      <td>0</td>\n",
       "      <td>0</td>\n",
       "      <td>STON/O2. 3101282</td>\n",
       "      <td>7.9250</td>\n",
       "      <td>NaN</td>\n",
       "      <td>S</td>\n",
       "    </tr>\n",
       "    <tr>\n",
       "      <th>3</th>\n",
       "      <td>4</td>\n",
       "      <td>1</td>\n",
       "      <td>1</td>\n",
       "      <td>Futrelle, Mrs. Jacques Heath (Lily May Peel)</td>\n",
       "      <td>female</td>\n",
       "      <td>35.0</td>\n",
       "      <td>1</td>\n",
       "      <td>0</td>\n",
       "      <td>113803</td>\n",
       "      <td>53.1000</td>\n",
       "      <td>C123</td>\n",
       "      <td>S</td>\n",
       "    </tr>\n",
       "    <tr>\n",
       "      <th>4</th>\n",
       "      <td>5</td>\n",
       "      <td>0</td>\n",
       "      <td>3</td>\n",
       "      <td>Allen, Mr. William Henry</td>\n",
       "      <td>male</td>\n",
       "      <td>35.0</td>\n",
       "      <td>0</td>\n",
       "      <td>0</td>\n",
       "      <td>373450</td>\n",
       "      <td>8.0500</td>\n",
       "      <td>NaN</td>\n",
       "      <td>S</td>\n",
       "    </tr>\n",
       "  </tbody>\n",
       "</table>\n",
       "</div>"
      ],
      "text/plain": [
       "   PassengerId  Survived  Pclass  \\\n",
       "0            1         0       3   \n",
       "1            2         1       1   \n",
       "2            3         1       3   \n",
       "3            4         1       1   \n",
       "4            5         0       3   \n",
       "\n",
       "                                                Name     Sex   Age  SibSp  \\\n",
       "0                            Braund, Mr. Owen Harris    male  22.0      1   \n",
       "1  Cumings, Mrs. John Bradley (Florence Briggs Th...  female  38.0      1   \n",
       "2                             Heikkinen, Miss. Laina  female  26.0      0   \n",
       "3       Futrelle, Mrs. Jacques Heath (Lily May Peel)  female  35.0      1   \n",
       "4                           Allen, Mr. William Henry    male  35.0      0   \n",
       "\n",
       "   Parch            Ticket     Fare Cabin Embarked  \n",
       "0      0         A/5 21171   7.2500   NaN        S  \n",
       "1      0          PC 17599  71.2833   C85        C  \n",
       "2      0  STON/O2. 3101282   7.9250   NaN        S  \n",
       "3      0            113803  53.1000  C123        S  \n",
       "4      0            373450   8.0500   NaN        S  "
      ]
     },
     "execution_count": 250,
     "metadata": {},
     "output_type": "execute_result"
    }
   ],
   "source": [
    "titanic.head(5)"
   ]
  },
  {
   "cell_type": "markdown",
   "metadata": {},
   "source": [
    "You use only Pclass, Sex, Age, SibSp (Siblings aboard), Parch (Parents/children aboard),\n",
    "and Fare to predict whether a passenger survived./"
   ]
  },
  {
   "cell_type": "code",
   "execution_count": 293,
   "metadata": {},
   "outputs": [],
   "source": [
    "titanic = titanic[['Pclass','Sex','Age','SibSp','Parch','Fare','Survived']]"
   ]
  },
  {
   "cell_type": "code",
   "execution_count": 294,
   "metadata": {},
   "outputs": [
    {
     "data": {
      "text/html": [
       "<div>\n",
       "<style scoped>\n",
       "    .dataframe tbody tr th:only-of-type {\n",
       "        vertical-align: middle;\n",
       "    }\n",
       "\n",
       "    .dataframe tbody tr th {\n",
       "        vertical-align: top;\n",
       "    }\n",
       "\n",
       "    .dataframe thead th {\n",
       "        text-align: right;\n",
       "    }\n",
       "</style>\n",
       "<table border=\"1\" class=\"dataframe\">\n",
       "  <thead>\n",
       "    <tr style=\"text-align: right;\">\n",
       "      <th></th>\n",
       "      <th>Pclass</th>\n",
       "      <th>Sex</th>\n",
       "      <th>Age</th>\n",
       "      <th>SibSp</th>\n",
       "      <th>Parch</th>\n",
       "      <th>Fare</th>\n",
       "      <th>Survived</th>\n",
       "    </tr>\n",
       "  </thead>\n",
       "  <tbody>\n",
       "    <tr>\n",
       "      <th>0</th>\n",
       "      <td>3</td>\n",
       "      <td>male</td>\n",
       "      <td>22.0</td>\n",
       "      <td>1</td>\n",
       "      <td>0</td>\n",
       "      <td>7.2500</td>\n",
       "      <td>0</td>\n",
       "    </tr>\n",
       "    <tr>\n",
       "      <th>1</th>\n",
       "      <td>1</td>\n",
       "      <td>female</td>\n",
       "      <td>38.0</td>\n",
       "      <td>1</td>\n",
       "      <td>0</td>\n",
       "      <td>71.2833</td>\n",
       "      <td>1</td>\n",
       "    </tr>\n",
       "    <tr>\n",
       "      <th>2</th>\n",
       "      <td>3</td>\n",
       "      <td>female</td>\n",
       "      <td>26.0</td>\n",
       "      <td>0</td>\n",
       "      <td>0</td>\n",
       "      <td>7.9250</td>\n",
       "      <td>1</td>\n",
       "    </tr>\n",
       "    <tr>\n",
       "      <th>3</th>\n",
       "      <td>1</td>\n",
       "      <td>female</td>\n",
       "      <td>35.0</td>\n",
       "      <td>1</td>\n",
       "      <td>0</td>\n",
       "      <td>53.1000</td>\n",
       "      <td>1</td>\n",
       "    </tr>\n",
       "    <tr>\n",
       "      <th>4</th>\n",
       "      <td>3</td>\n",
       "      <td>male</td>\n",
       "      <td>35.0</td>\n",
       "      <td>0</td>\n",
       "      <td>0</td>\n",
       "      <td>8.0500</td>\n",
       "      <td>0</td>\n",
       "    </tr>\n",
       "  </tbody>\n",
       "</table>\n",
       "</div>"
      ],
      "text/plain": [
       "   Pclass     Sex   Age  SibSp  Parch     Fare  Survived\n",
       "0       3    male  22.0      1      0   7.2500         0\n",
       "1       1  female  38.0      1      0  71.2833         1\n",
       "2       3  female  26.0      0      0   7.9250         1\n",
       "3       1  female  35.0      1      0  53.1000         1\n",
       "4       3    male  35.0      0      0   8.0500         0"
      ]
     },
     "execution_count": 294,
     "metadata": {},
     "output_type": "execute_result"
    }
   ],
   "source": [
    "titanic.head(5)"
   ]
  },
  {
   "cell_type": "markdown",
   "metadata": {},
   "source": [
    "## Data Visualization: "
   ]
  },
  {
   "cell_type": "code",
   "execution_count": 296,
   "metadata": {},
   "outputs": [
    {
     "data": {
      "text/plain": [
       "<matplotlib.axes._subplots.AxesSubplot at 0x1d987ce2518>"
      ]
     },
     "execution_count": 296,
     "metadata": {},
     "output_type": "execute_result"
    },
    {
     "data": {
      "image/png": "[encoded data removed]",
      "text/plain": [
       "<Figure size 432x288 with 1 Axes>"
      ]
     },
     "metadata": {},
     "output_type": "display_data"
    }
   ],
   "source": [
    "sb.set_style('whitegrid')\n",
    "sb.countplot(x='Survived',data=titanic,hue='Sex')"
   ]
  },
  {
   "cell_type": "markdown",
   "metadata": {},
   "source": [
    "#### Observation:\n",
    "Females survived more than males."
   ]
  },
  {
   "cell_type": "code",
   "execution_count": 290,
   "metadata": {},
   "outputs": [
    {
     "data": {
      "text/plain": [
       "<matplotlib.axes._subplots.AxesSubplot at 0x1d987fb0c88>"
      ]
     },
     "execution_count": 290,
     "metadata": {},
     "output_type": "execute_result"
    },
    {
     "data": {
      "image/png": "[encoded data removed]",
      "text/plain": [
       "<Figure size 432x288 with 1 Axes>"
      ]
     },
     "metadata": {},
     "output_type": "display_data"
    }
   ],
   "source": [
    "sb.countplot(x='Pclass',data=titanic,hue='Survived')"
   ]
  },
  {
   "cell_type": "markdown",
   "metadata": {},
   "source": [
    "#### Observation:\n",
    "\n",
    "1. Almost many people from 3rd class did not survive.\n",
    "\n",
    "2. Number of survivors from 1st class is high."
   ]
  },
  {
   "cell_type": "markdown",
   "metadata": {},
   "source": [
    "## Data pre-processing:\n"
   ]
  },
  {
   "cell_type": "markdown",
   "metadata": {},
   "source": [
    "### 1. Identify missing values:"
   ]
  },
  {
   "cell_type": "code",
   "execution_count": 253,
   "metadata": {},
   "outputs": [
    {
     "name": "stdout",
     "output_type": "stream",
     "text": [
      "<class 'pandas.core.frame.DataFrame'>\n",
      "RangeIndex: 891 entries, 0 to 890\n",
      "Data columns (total 7 columns):\n",
      "Pclass      891 non-null int64\n",
      "Sex         891 non-null object\n",
      "Age         714 non-null float64\n",
      "SibSp       891 non-null int64\n",
      "Parch       891 non-null int64\n",
      "Fare        891 non-null float64\n",
      "Survived    891 non-null int64\n",
      "dtypes: float64(2), int64(4), object(1)\n",
      "memory usage: 48.8+ KB\n"
     ]
    }
   ],
   "source": [
    "titanic.info()"
   ]
  },
  {
   "cell_type": "markdown",
   "metadata": {},
   "source": [
    "#### From above results, we find the Age featuer has missing values."
   ]
  },
  {
   "cell_type": "code",
   "execution_count": 254,
   "metadata": {},
   "outputs": [
    {
     "data": {
      "text/plain": [
       "Pclass        0\n",
       "Sex           0\n",
       "Age         177\n",
       "SibSp         0\n",
       "Parch         0\n",
       "Fare          0\n",
       "Survived      0\n",
       "dtype: int64"
      ]
     },
     "execution_count": 254,
     "metadata": {},
     "output_type": "execute_result"
    }
   ],
   "source": [
    "titanic.isnull().sum()"
   ]
  },
  {
   "cell_type": "markdown",
   "metadata": {},
   "source": [
    "The Age feature has 177 missing values.\n",
    "\n",
    "#### The missing values in Age feature should be replaced with its median."
   ]
  },
  {
   "cell_type": "code",
   "execution_count": 255,
   "metadata": {},
   "outputs": [
    {
     "data": {
      "text/plain": [
       "28.0"
      ]
     },
     "execution_count": 255,
     "metadata": {},
     "output_type": "execute_result"
    }
   ],
   "source": [
    "titanic['Age'].median()"
   ]
  },
  {
   "cell_type": "markdown",
   "metadata": {},
   "source": [
    "#### Replacing the null values with value 28."
   ]
  },
  {
   "cell_type": "code",
   "execution_count": 256,
   "metadata": {},
   "outputs": [],
   "source": [
    "titanic['Age'] = titanic['Age'].fillna(titanic['Age'].median())\n"
   ]
  },
  {
   "cell_type": "code",
   "execution_count": 257,
   "metadata": {},
   "outputs": [
    {
     "data": {
      "text/plain": [
       "Pclass      0\n",
       "Sex         0\n",
       "Age         0\n",
       "SibSp       0\n",
       "Parch       0\n",
       "Fare        0\n",
       "Survived    0\n",
       "dtype: int64"
      ]
     },
     "execution_count": 257,
     "metadata": {},
     "output_type": "execute_result"
    }
   ],
   "source": [
    "titanic.isnull().sum()"
   ]
  },
  {
   "cell_type": "markdown",
   "metadata": {},
   "source": [
    "No missing values are found."
   ]
  },
  {
   "cell_type": "markdown",
   "metadata": {},
   "source": [
    "### 2. Encoding\n",
    "The categorical values from 'Sex' column should be transformed into numerical values.\n",
    "\n",
    "male - 1\n",
    "\n",
    "female - 0"
   ]
  },
  {
   "cell_type": "code",
   "execution_count": 258,
   "metadata": {},
   "outputs": [
    {
     "data": {
      "text/html": [
       "<div>\n",
       "<style scoped>\n",
       "    .dataframe tbody tr th:only-of-type {\n",
       "        vertical-align: middle;\n",
       "    }\n",
       "\n",
       "    .dataframe tbody tr th {\n",
       "        vertical-align: top;\n",
       "    }\n",
       "\n",
       "    .dataframe thead th {\n",
       "        text-align: right;\n",
       "    }\n",
       "</style>\n",
       "<table border=\"1\" class=\"dataframe\">\n",
       "  <thead>\n",
       "    <tr style=\"text-align: right;\">\n",
       "      <th></th>\n",
       "      <th>Pclass</th>\n",
       "      <th>Sex</th>\n",
       "      <th>Age</th>\n",
       "      <th>SibSp</th>\n",
       "      <th>Parch</th>\n",
       "      <th>Fare</th>\n",
       "      <th>Survived</th>\n",
       "    </tr>\n",
       "  </thead>\n",
       "  <tbody>\n",
       "    <tr>\n",
       "      <th>0</th>\n",
       "      <td>3</td>\n",
       "      <td>1</td>\n",
       "      <td>22.0</td>\n",
       "      <td>1</td>\n",
       "      <td>0</td>\n",
       "      <td>7.2500</td>\n",
       "      <td>0</td>\n",
       "    </tr>\n",
       "    <tr>\n",
       "      <th>1</th>\n",
       "      <td>1</td>\n",
       "      <td>0</td>\n",
       "      <td>38.0</td>\n",
       "      <td>1</td>\n",
       "      <td>0</td>\n",
       "      <td>71.2833</td>\n",
       "      <td>1</td>\n",
       "    </tr>\n",
       "    <tr>\n",
       "      <th>2</th>\n",
       "      <td>3</td>\n",
       "      <td>0</td>\n",
       "      <td>26.0</td>\n",
       "      <td>0</td>\n",
       "      <td>0</td>\n",
       "      <td>7.9250</td>\n",
       "      <td>1</td>\n",
       "    </tr>\n",
       "    <tr>\n",
       "      <th>3</th>\n",
       "      <td>1</td>\n",
       "      <td>0</td>\n",
       "      <td>35.0</td>\n",
       "      <td>1</td>\n",
       "      <td>0</td>\n",
       "      <td>53.1000</td>\n",
       "      <td>1</td>\n",
       "    </tr>\n",
       "    <tr>\n",
       "      <th>4</th>\n",
       "      <td>3</td>\n",
       "      <td>1</td>\n",
       "      <td>35.0</td>\n",
       "      <td>0</td>\n",
       "      <td>0</td>\n",
       "      <td>8.0500</td>\n",
       "      <td>0</td>\n",
       "    </tr>\n",
       "  </tbody>\n",
       "</table>\n",
       "</div>"
      ],
      "text/plain": [
       "   Pclass  Sex   Age  SibSp  Parch     Fare  Survived\n",
       "0       3    1  22.0      1      0   7.2500         0\n",
       "1       1    0  38.0      1      0  71.2833         1\n",
       "2       3    0  26.0      0      0   7.9250         1\n",
       "3       1    0  35.0      1      0  53.1000         1\n",
       "4       3    1  35.0      0      0   8.0500         0"
      ]
     },
     "execution_count": 258,
     "metadata": {},
     "output_type": "execute_result"
    }
   ],
   "source": [
    "label_quality = LabelEncoder()\n",
    "titanic['Sex'] = label_quality.fit_transform(titanic['Sex'])\n",
    "titanic.head(5)"
   ]
  },
  {
   "cell_type": "markdown",
   "metadata": {},
   "source": [
    "### 3. Feature Scaling"
   ]
  },
  {
   "cell_type": "markdown",
   "metadata": {},
   "source": [
    "#### Normalising the Age Feature"
   ]
  },
  {
   "cell_type": "code",
   "execution_count": 259,
   "metadata": {},
   "outputs": [
    {
     "data": {
      "text/plain": [
       "array([-0.56573646,  0.66386103, -0.25833709,  0.4333115 , -0.1046374 ,\n",
       "        1.89345853, -2.10273333, -0.18148724, -1.18053521, -1.94903364,\n",
       "        2.2008579 , -0.71943615,  0.74071088,  1.97030837,  0.12591213,\n",
       "        0.35646166, -1.10368536, -1.64163427, -0.79628599,  0.81756072,\n",
       "        2.81565665,  0.97126041, -0.6425863 , -0.87313583, -2.02588348,\n",
       "       -1.71848411,  1.50920931, -0.02778756,  2.7388068 , -0.06621248,\n",
       "       -1.8721838 , -1.41108474,  1.20180994, -0.94998568,  0.20276197,\n",
       "       -1.02683552, -0.33518693, -2.19264764,  0.04906229,  0.27961182,\n",
       "       -0.48888662, -0.41203677,  1.27865978,  2.27770774,  3.19990586,\n",
       "        0.58701119,  1.35550962, -1.14211029,  3.16148094,  0.24118689,\n",
       "       -1.33423489, -1.56478442,  0.54858627,  1.662909  ,  2.00873329,\n",
       "        0.85598564,  1.12496009, -2.17958317,  2.43140743,  2.04715821,\n",
       "        1.58605915,  0.51016135,  1.24023486, -0.68101123,  2.50825727,\n",
       "        0.89441056,  1.73975884,  2.58510712, -0.4504617 , -2.18573116,\n",
       "        1.04811025,  2.35455759, -1.48793458,  2.66195696, -1.25738505,\n",
       "        1.43235947, -2.19879563,  1.81660868,  2.12400806,  3.89155445,\n",
       "        3.12305602, -0.37361185, -1.79533395, -2.20494362,  0.08748721,\n",
       "       -2.22415608,  0.39488658,  3.43045539])"
      ]
     },
     "execution_count": 259,
     "metadata": {},
     "output_type": "execute_result"
    }
   ],
   "source": [
    "age_scaler = StandardScaler()\n",
    "age_scaler.fit(pd.DataFrame(titanic['Age']))\n",
    "titanic.Age = age_scaler.transform(titanic[['Age']])\n",
    "titanic.Age.unique()"
   ]
  },
  {
   "cell_type": "markdown",
   "metadata": {},
   "source": [
    "#### Normalizing the Fare feature"
   ]
  },
  {
   "cell_type": "code",
   "execution_count": 260,
   "metadata": {},
   "outputs": [
    {
     "data": {
      "text/plain": [
       "array([-5.02445171e-01,  7.86845294e-01, -4.88854258e-01,  4.20730236e-01,\n",
       "       -4.86337422e-01, -4.78116429e-01,  3.95813561e-01, -2.24083121e-01,\n",
       "       -4.24256141e-01, -4.29555021e-02, -3.12172378e-01, -1.13845709e-01,\n",
       "       -1.87093118e-02, -4.90279793e-01, -3.26266659e-01, -6.19988892e-02,\n",
       "       -3.86670720e-01, -2.85997284e-01, -5.02948539e-01, -1.24919787e-01,\n",
       "       -4.86756223e-01,  6.63597416e-02, -1.64441595e-02,  4.64700108e+00,\n",
       "       -4.89776426e-01, -4.89442190e-01, -9.02720170e-02,  2.30172882e+00,\n",
       "       -4.92377828e-01, -4.37007438e-01,  1.00606170e+00,  3.98582080e-01,\n",
       "       -5.02863973e-01, -4.22073541e-01, -4.57645492e-01, -2.25593223e-01,\n",
       "        1.88762532e-01, -3.36334002e-01, -2.11917743e-01, -2.90024222e-01,\n",
       "        1.50673744e-01, -4.91371093e-01,  8.96496787e-01,  5.99510151e-01,\n",
       "       -8.96840841e-02,  2.95895176e-01,  9.62353321e-01,  1.03232136e+00,\n",
       "       -8.66638810e-02, -3.41452240e-01, -4.84156835e-01, -4.74004926e-01,\n",
       "        8.31477855e-01, -3.57390858e-01,  4.89103607e-01, -4.94391297e-01,\n",
       "       -6.45157251e-02, -3.97241431e-01, -4.67209469e-01, -4.57142125e-01,\n",
       "       -4.91622777e-01,  2.99922113e-01, -3.29286862e-01,  4.37082185e-02,\n",
       "        5.83317835e-01, -2.34150465e-01,  4.93298232e-02,  6.27277898e-01,\n",
       "       -1.85323848e-01,  9.07737982e-01, -4.74172044e-01, -4.91874461e-01,\n",
       "       -1.62168958e-01, -4.50598352e-01, -3.57308306e-01,  4.33533223e+00,\n",
       "       -5.04625758e-01, -1.98244277e-01, -5.07982210e-01, -5.06472109e-01,\n",
       "       -3.56468689e-01, -3.45479177e-01, -1.19215630e-01, -4.62846282e-01,\n",
       "        9.46245572e-01, -5.12512515e-01, -4.16872751e-01,  9.15281006e-02,\n",
       "       -4.91455659e-01, -3.96234697e-01,  6.92548513e-01, -5.01186753e-01,\n",
       "        5.87429338e-01, -4.92714077e-01,  7.51945840e-01, -3.24253190e-01,\n",
       "       -3.31300330e-01, -2.35157199e-01,  4.58986142e-01, -1.26429888e-01,\n",
       "        2.60903672e-02, -3.03713226e-02, -1.35657615e-01, -7.03044477e-02,\n",
       "       -6.48421654e-01, -3.45394611e-01,  1.36831147e-01, -2.04955168e-01,\n",
       "        3.58312706e-01, -4.79205715e-01, -5.17630753e-01, -4.37762489e-01,\n",
       "       -2.70141218e-01, -2.42463508e-02,  1.63233504e+00, -1.04785100e-01,\n",
       "        8.87687861e-01,  1.16370019e+00, -4.60162328e-01, -3.76603377e-01,\n",
       "       -4.96404765e-01, -1.19886115e-01, -4.01268368e-01, -5.04962007e-01,\n",
       "        4.09740724e-01, -2.41449289e-01,  1.09322879e+00,  9.66716653e+00,\n",
       "        9.55306181e-01,  2.44149778e+00,  2.08251241e+00, -2.55795253e-01,\n",
       "       -5.04214441e-02,  9.21244331e-01, -2.40694238e-01,  9.39198431e-01,\n",
       "        1.18542955e+00, -3.89187556e-01, -4.70229672e-01,  2.40299019e+00,\n",
       "       -3.43136943e-02, -1.80290176e-01, -3.99758267e-01,  1.58417891e+00,\n",
       "        1.54424578e+00, -1.65189161e-01,  4.97829980e-01,  1.02594470e+00,\n",
       "        4.63441690e+00, -3.66536033e-01,  2.67111778e+00,  2.05969377e+00,\n",
       "       -5.22831542e-01,  5.18971402e-01, -7.45830687e-02,  2.04257929e+00,\n",
       "       -3.28280127e-01, -4.62679164e-01,  5.62923980e-02,  8.66713557e-01,\n",
       "        7.46912168e-01,  4.67879633e-01,  3.61006469e+00, -5.67631221e-01,\n",
       "        3.93272305e+00, -3.31467448e-01, -4.92796629e-01, -4.06805407e-01,\n",
       "        1.76774081e+00, -3.93717861e-01, -2.70896269e-01, -5.10331928e-01,\n",
       "        5.95568003e-03, -4.89860992e-01, -3.58482158e-01,  4.77107360e-01,\n",
       "       -4.85079004e-01,  9.99769611e-01, -2.60661807e-01, -2.46398395e-01,\n",
       "        1.14566354e+00,  1.26763803e-01, -4.92881195e-01, -3.70730088e-01,\n",
       "       -4.50346668e-01, -5.06556675e-01, -4.96992698e-01, -4.01016685e-01,\n",
       "       -4.55380340e-01,  3.48329928e-01,  9.27453868e-01, -3.44387877e-01,\n",
       "       -4.94810098e-01, -1.94887825e-01, -1.19131064e-01,  5.47578765e-01,\n",
       "       -4.97496065e-01,  3.65765123e-02,  1.23417160e+00,  3.81703316e+00,\n",
       "        1.49441243e+00,  3.48245362e-01,  7.81141137e-01, -3.69304552e-01,\n",
       "       -4.90783161e-01,  1.48911959e-01, -2.98078096e-01,  3.88095935e-01,\n",
       "       -1.17117595e-01, -4.43810379e-02,  1.59482670e-01, -4.72998191e-01,\n",
       "       -3.46401346e-01,  1.60230236e-02,  2.05289083e-01, -3.35327268e-01,\n",
       "        6.60333014e-01,  2.34754408e-03, -5.06387543e-01, -4.78619796e-01,\n",
       "       -1.33225345e-01, -4.50262103e-01, -4.84575637e-01, -4.43635777e-01,\n",
       "        3.60679280e+00,  4.99255516e-01, -3.78280596e-01, -4.92544946e-01,\n",
       "       -4.57478375e-01, -4.92629511e-01, -4.80045332e-01, -1.76263239e-01,\n",
       "       -1.26345323e-01, -4.73586124e-01, -4.76940563e-01, -4.89609308e-01,\n",
       "        9.66463381e-02, -5.18552921e-01, -5.08485578e-01, -4.81303750e-01,\n",
       "       -5.18804605e-01,  1.44885022e-01, -3.64355446e-01, -3.69389118e-01,\n",
       "        3.68295484e-01, -5.47748218e-01, -4.50179550e-01, -4.36671189e-01])"
      ]
     },
     "execution_count": 260,
     "metadata": {},
     "output_type": "execute_result"
    }
   ],
   "source": [
    "age_scaler = StandardScaler()\n",
    "age_scaler.fit(pd.DataFrame(titanic['Fare']))\n",
    "titanic.Age = age_scaler.transform(titanic[['Fare']])\n",
    "titanic.Age.unique()"
   ]
  },
  {
   "cell_type": "markdown",
   "metadata": {},
   "source": [
    "## Feature Selection"
   ]
  },
  {
   "cell_type": "markdown",
   "metadata": {},
   "source": [
    "X - feature variables\n",
    "\n",
    "y - target variable"
   ]
  },
  {
   "cell_type": "code",
   "execution_count": 261,
   "metadata": {},
   "outputs": [],
   "source": [
    "X = titanic.drop('Survived', axis = 1)\n",
    "y = titanic['Survived']"
   ]
  },
  {
   "cell_type": "code",
   "execution_count": 262,
   "metadata": {},
   "outputs": [],
   "source": [
    "#Splitting the data into train and test data\n",
    "X_train, X_test, y_train, y_test = train_test_split(X, y, test_size = 0.2, random_state = 0)"
   ]
  },
  {
   "cell_type": "code",
   "execution_count": 263,
   "metadata": {},
   "outputs": [
    {
     "name": "stdout",
     "output_type": "stream",
     "text": [
      "(712, 6)\n",
      "(712,)\n",
      "(179, 6)\n",
      "(179,)\n"
     ]
    }
   ],
   "source": [
    "print(X_train.shape)\n",
    "print(y_train.shape)\n",
    "print(X_test.shape)\n",
    "print(y_test.shape)"
   ]
  },
  {
   "cell_type": "markdown",
   "metadata": {},
   "source": [
    "## Decision Tree Classifier\n",
    "There are couple of algorithms there to build a decision tree , we only talk about a few which are\n",
    "\n",
    "CART (Classification and Regression Trees) → uses Gini Index(Classification) as metric.\n",
    "\n",
    "\n",
    "ID3 (Iterative Dichotomiser 3) → uses Entropy function and Information gain as metrics."
   ]
  },
  {
   "cell_type": "markdown",
   "metadata": {},
   "source": [
    "### 1. Gini Index"
   ]
  },
  {
   "cell_type": "code",
   "execution_count": 264,
   "metadata": {},
   "outputs": [
    {
     "data": {
      "text/plain": [
       "DecisionTreeClassifier(class_weight=None, criterion='gini', max_depth=5,\n",
       "            max_features=None, max_leaf_nodes=None,\n",
       "            min_impurity_decrease=0.0, min_impurity_split=None,\n",
       "            min_samples_leaf=1, min_samples_split=2,\n",
       "            min_weight_fraction_leaf=0.0, presort=False, random_state=0,\n",
       "            splitter='best')"
      ]
     },
     "execution_count": 264,
     "metadata": {},
     "output_type": "execute_result"
    }
   ],
   "source": [
    "dtree = tree.DecisionTreeClassifier(criterion='gini', max_depth=5, random_state=0)\n",
    "dtree.fit(X_train, y_train)\n"
   ]
  },
  {
   "cell_type": "code",
   "execution_count": 265,
   "metadata": {},
   "outputs": [],
   "source": [
    "y_pred = dtree.predict(X_test)"
   ]
  },
  {
   "cell_type": "code",
   "execution_count": 266,
   "metadata": {},
   "outputs": [
    {
     "name": "stdout",
     "output_type": "stream",
     "text": [
      "Misclassified samples: 36\n",
      "Accuracy: 0.80\n"
     ]
    }
   ],
   "source": [
    "count_misclassified = (y_test != y_pred).sum()\n",
    "print('Misclassified samples: {}'.format(count_misclassified))\n",
    "accuracy = metrics.accuracy_score(y_test, y_pred)\n",
    "print('Accuracy: {:.2f}'.format(accuracy))"
   ]
  },
  {
   "cell_type": "markdown",
   "metadata": {},
   "source": [
    "### 2. Entropy and Information Gain"
   ]
  },
  {
   "cell_type": "code",
   "execution_count": 267,
   "metadata": {},
   "outputs": [
    {
     "data": {
      "text/plain": [
       "DecisionTreeClassifier(class_weight=None, criterion='entropy', max_depth=5,\n",
       "            max_features=None, max_leaf_nodes=None,\n",
       "            min_impurity_decrease=0.0, min_impurity_split=None,\n",
       "            min_samples_leaf=1, min_samples_split=2,\n",
       "            min_weight_fraction_leaf=0.0, presort=False, random_state=0,\n",
       "            splitter='best')"
      ]
     },
     "execution_count": 267,
     "metadata": {},
     "output_type": "execute_result"
    }
   ],
   "source": [
    "dtree = tree.DecisionTreeClassifier(criterion='entropy', max_depth=5, random_state=0)\n",
    "dtree.fit(X_train, y_train)"
   ]
  },
  {
   "cell_type": "code",
   "execution_count": 268,
   "metadata": {},
   "outputs": [],
   "source": [
    "y_pred = dtree.predict(X_test)"
   ]
  },
  {
   "cell_type": "code",
   "execution_count": 269,
   "metadata": {},
   "outputs": [
    {
     "name": "stdout",
     "output_type": "stream",
     "text": [
      "Misclassified samples: 36\n",
      "Accuracy: 0.80\n"
     ]
    }
   ],
   "source": [
    "count_misclassified = (y_test != y_pred).sum()\n",
    "print('Misclassified samples: {}'.format(count_misclassified))\n",
    "accuracy = metrics.accuracy_score(y_test, y_pred)\n",
    "print('Accuracy: {:.2f}'.format(accuracy))"
   ]
  },
  {
   "cell_type": "markdown",
   "metadata": {},
   "source": [
    "Here, we find that both Gini Index and Entropy gives the same accuracy. So we can adopt any one criteria. \n",
    "So, we can choose Gini Index, since this is a binary classification problem."
   ]
  },
  {
   "cell_type": "markdown",
   "metadata": {},
   "source": [
    "## k-fold Cross Validation"
   ]
  },
  {
   "cell_type": "code",
   "execution_count": 270,
   "metadata": {},
   "outputs": [
    {
     "name": "stdout",
     "output_type": "stream",
     "text": [
      "Accuracy per fold:  [0.7555555555555555, 0.7752808988764045, 0.7415730337078652, 0.7752808988764045, 0.8539325842696629, 0.8426966292134831, 0.7865168539325843, 0.8089887640449438, 0.797752808988764, 0.8089887640449438] \n",
      "\n",
      "Average accuracy:  0.7946566791510612\n"
     ]
    }
   ],
   "source": [
    "cv = KFold(n=len(X), \n",
    "           n_folds=10,            \n",
    "           random_state=12) \n",
    "dtree_1 = tree.DecisionTreeClassifier()\n",
    "\n",
    "fold_accuracy = []\n",
    "for train_fold, valid_fold in cv:\n",
    "    train = X.iloc[train_fold] \n",
    "    valid = X.iloc[valid_fold] \n",
    "    train_y = y.iloc[train_fold]\n",
    "    valid_y = y.iloc[valid_fold] \n",
    "    model = dtree_1.fit(X = train, \n",
    "                           y = train_y)\n",
    "    valid_acc = model.score(X = valid, \n",
    "                            y = valid_y)\n",
    "    fold_accuracy.append(valid_acc)    \n",
    "\n",
    "print(\"Accuracy per fold: \", fold_accuracy, \"\\n\")\n",
    "print(\"Average accuracy: \", sum(fold_accuracy)/len(fold_accuracy))"
   ]
  },
  {
   "cell_type": "markdown",
   "metadata": {},
   "source": [
    "### Observation :\n",
    "   \n",
    "   Using 10 folds, the accuracy was found to be 79%"
   ]
  },
  {
   "cell_type": "markdown",
   "metadata": {},
   "source": [
    "### Cross-validation score"
   ]
  },
  {
   "cell_type": "code",
   "execution_count": 242,
   "metadata": {},
   "outputs": [
    {
     "name": "stdout",
     "output_type": "stream",
     "text": [
      "Accuracy per fold: \n",
      "[0.74157303 0.74157303 0.74157303 0.79775281 0.85393258 0.84269663\n",
      " 0.80898876 0.83146067 0.7752809  0.8045977 ]\n",
      "Average accuracy:  0.7939429161823582\n"
     ]
    }
   ],
   "source": [
    "scores = cross_val_score(estimator= tree.DecisionTreeClassifier(random_state=0),     # Model to test\n",
    "                X= X,  \n",
    "                y = y,      # Target variable\n",
    "                scoring = \"accuracy\",               # Scoring metric    \n",
    "                cv=10)                              # Cross validation folds\n",
    "\n",
    "print(\"Accuracy per fold: \")\n",
    "print(scores)\n",
    "print(\"Average accuracy: \", scores.mean())"
   ]
  },
  {
   "cell_type": "markdown",
   "metadata": {},
   "source": [
    "#### k-fold cross validation with max-depth 6"
   ]
  },
  {
   "cell_type": "code",
   "execution_count": 276,
   "metadata": {},
   "outputs": [
    {
     "name": "stdout",
     "output_type": "stream",
     "text": [
      "Accuracy per fold: \n",
      "Cross Validation score:  [0.77777778 0.8        0.76404494 0.84269663 0.87640449 0.83146067\n",
      " 0.79775281 0.76404494 0.84269663 0.80681818]\n",
      "Average accuracy:  0.8103697083191465\n"
     ]
    }
   ],
   "source": [
    "scores = cross_val_score(estimator= tree.DecisionTreeClassifier(max_depth=6,random_state=0),     # Model to test\n",
    "                X= X,  \n",
    "                y = y,      # Target variable\n",
    "                scoring = \"accuracy\",               # Scoring metric    \n",
    "                cv=10)                              # Cross validation folds\n",
    "\n",
    "print(\"Accuracy per fold: \")\n",
    "print(\"Cross Validation score: \", scores)\n",
    "print(\"Average accuracy: \", scores.mean())\n"
   ]
  },
  {
   "cell_type": "markdown",
   "metadata": {},
   "source": [
    "#### Final 10-fold cross validation model with max-depth 6"
   ]
  },
  {
   "cell_type": "code",
   "execution_count": 277,
   "metadata": {},
   "outputs": [
    {
     "name": "stdout",
     "output_type": "stream",
     "text": [
      "Decision Tree Classifier Accuracy per fold:  [0.7888888888888889, 0.8202247191011236, 0.8089887640449438, 0.7865168539325843, 0.8426966292134831, 0.797752808988764, 0.8202247191011236, 0.8089887640449438, 0.7303370786516854, 0.7865168539325843] \n",
      "\n",
      "Decision Tree Classifier Average accuracy:  0.7991136079900124\n"
     ]
    }
   ],
   "source": [
    "kfold = KFold(len(X),n_folds=10,shuffle=True,random_state=0)\n",
    "dt_6 = tree.DecisionTreeClassifier(max_depth=6,random_state=0)\n",
    "fold_accuracy = []\n",
    "for train_fold, valid_fold in kfold:\n",
    "    train = X.iloc[train_fold] # Extract training data with cv indices\n",
    "    valid = X.iloc[valid_fold] # Extract validation data with cv indices\n",
    "    \n",
    "    train_y = y.iloc[train_fold]\n",
    "    valid_y = y.iloc[valid_fold]\n",
    "    \n",
    "    model = dt_6.fit(train,train_y)\n",
    "    valid_acc = model.score(X = valid, y = valid_y)\n",
    "    fold_accuracy.append(valid_acc)    \n",
    "\n",
    "print(\"Decision Tree Classifier Accuracy per fold: \", fold_accuracy, \"\\n\")\n",
    "print(\"Decision Tree Classifier Average accuracy: \", sum(fold_accuracy)/len(fold_accuracy))"
   ]
  },
  {
   "cell_type": "markdown",
   "metadata": {},
   "source": [
    "Accuracy = 80%"
   ]
  },
  {
   "cell_type": "markdown",
   "metadata": {},
   "source": [
    "#### Prediction using k-fold model:"
   ]
  },
  {
   "cell_type": "code",
   "execution_count": 278,
   "metadata": {},
   "outputs": [],
   "source": [
    "#Predict the Survival Class for the Test data\n",
    "y_pred = dt_6.predict(X_test)\n",
    "#Prediction Probability\n",
    "y_pred_proba = dt_6.predict_proba(X_test)"
   ]
  },
  {
   "cell_type": "markdown",
   "metadata": {},
   "source": [
    "### Performance Measure:"
   ]
  },
  {
   "cell_type": "markdown",
   "metadata": {},
   "source": [
    "#### a. Accuracy"
   ]
  },
  {
   "cell_type": "code",
   "execution_count": 279,
   "metadata": {},
   "outputs": [
    {
     "name": "stdout",
     "output_type": "stream",
     "text": [
      "Accuracy Score of Decision Tree Classifier depth 8 :  0.8324022346368715\n",
      "Misclassified samples: 30\n",
      "Accuracy: 0.83\n"
     ]
    }
   ],
   "source": [
    "print('Accuracy Score of Decision Tree Classifier depth 8 : ',accuracy_score(y_test,y_pred))\n",
    "count_misclassified = (y_test != y_pred).sum()\n",
    "print('Misclassified samples: {}'.format(count_misclassified))\n",
    "accuracy = metrics.accuracy_score(y_test, y_pred)\n",
    "print('Accuracy: {:.2f}'.format(accuracy))"
   ]
  },
  {
   "cell_type": "markdown",
   "metadata": {},
   "source": [
    "#### b. Confusion Matrix"
   ]
  },
  {
   "cell_type": "code",
   "execution_count": 280,
   "metadata": {},
   "outputs": [
    {
     "data": {
      "text/plain": [
       "array([[106,   4],\n",
       "       [ 26,  43]], dtype=int64)"
      ]
     },
     "execution_count": 280,
     "metadata": {},
     "output_type": "execute_result"
    }
   ],
   "source": [
    "confusion_matrix(y_test, y_pred)"
   ]
  },
  {
   "cell_type": "markdown",
   "metadata": {},
   "source": [
    "#### c. Precision"
   ]
  },
  {
   "cell_type": "code",
   "execution_count": 281,
   "metadata": {},
   "outputs": [
    {
     "name": "stdout",
     "output_type": "stream",
     "text": [
      "0.9148936170212766\n"
     ]
    }
   ],
   "source": [
    "print(precision_score(y_test, y_pred) )"
   ]
  },
  {
   "cell_type": "markdown",
   "metadata": {},
   "source": [
    "#### d. Recall"
   ]
  },
  {
   "cell_type": "code",
   "execution_count": 282,
   "metadata": {},
   "outputs": [
    {
     "name": "stdout",
     "output_type": "stream",
     "text": [
      "0.6231884057971014\n"
     ]
    }
   ],
   "source": [
    "print(recall_score(y_test, y_pred) )"
   ]
  },
  {
   "cell_type": "markdown",
   "metadata": {},
   "source": [
    "#### e. f1-score"
   ]
  },
  {
   "cell_type": "code",
   "execution_count": 283,
   "metadata": {},
   "outputs": [
    {
     "name": "stdout",
     "output_type": "stream",
     "text": [
      "0.7413793103448276\n"
     ]
    }
   ],
   "source": [
    "print(f1_score(y_test, y_pred) )"
   ]
  },
  {
   "cell_type": "code",
   "execution_count": 287,
   "metadata": {},
   "outputs": [
    {
     "name": "stdout",
     "output_type": "stream",
     "text": [
      "Classification Report of Decision Tree Classifier depth 6 :               precision    recall  f1-score   support\n",
      "\n",
      "          0       0.80      0.96      0.88       110\n",
      "          1       0.91      0.62      0.74        69\n",
      "\n",
      "avg / total       0.85      0.83      0.82       179\n",
      "\n"
     ]
    }
   ],
   "source": [
    "print('Classification Report of Decision Tree Classifier depth 6 : ',classification_report(y_test,y_pred))\n"
   ]
  },
  {
   "cell_type": "markdown",
   "metadata": {},
   "source": [
    "## Conclusion:\n",
    "\n",
    "1. The Decision Tree was modelled with 10 fold cross validation with max-depth 6.\n",
    "\n",
    "2. The Accuracy for training data was found to be 80%.\n",
    "\n",
    "3. The Accuracy for test data was found to be 83%.\n",
    "\n",
    "4. Precision was 91%.\n",
    "\n",
    "5. Recall was 62%.\n",
    "\n",
    "6. f1-score was 74%"
   ]
  },
  {
   "cell_type": "code",
   "execution_count": null,
   "metadata": {},
   "outputs": [],
   "source": []
  }
 ],
 "metadata": {
  "kernelspec": {
   "display_name": "Python 3",
   "language": "python",
   "name": "python3"
  },
  "language_info": {
   "codemirror_mode": {
    "name": "ipython",
    "version": 3
   },
   "file_extension": ".py",
   "mimetype": "text/x-python",
   "name": "python",
   "nbconvert_exporter": "python",
   "pygments_lexer": "ipython3",
   "version": "3.7.0"
  }
 },
 "nbformat": 4,
 "nbformat_minor": 2
}
